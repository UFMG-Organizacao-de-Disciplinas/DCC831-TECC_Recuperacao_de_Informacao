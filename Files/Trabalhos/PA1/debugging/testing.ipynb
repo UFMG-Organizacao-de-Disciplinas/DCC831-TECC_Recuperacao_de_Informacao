{
 "cells": [
  {
   "cell_type": "code",
   "execution_count": 7,
   "id": "262d57d4",
   "metadata": {},
   "outputs": [
    {
     "name": "stdout",
     "output_type": "stream",
     "text": [
      "Beautiful, is; better*than\n",
      "ugly\n",
      "['Beautiful', 'is', 'better', 'than', 'ugly']\n"
     ]
    },
    {
     "name": "stderr",
     "output_type": "stream",
     "text": [
      "<>:3: SyntaxWarning: invalid escape sequence '\\*'\n",
      "<>:3: SyntaxWarning: invalid escape sequence '\\*'\n",
      "C:\\Users\\joaov\\AppData\\Local\\Temp\\ipykernel_19840\\3031439762.py:3: SyntaxWarning: invalid escape sequence '\\*'\n",
      "  teste = re.split('; |, |\\*|\\n', string_to_split)\n"
     ]
    }
   ],
   "source": [
    "import re\n",
    "string_to_split = 'Beautiful, is; better*than\\nugly'\n",
    "teste = re.split('; |, |\\*|\\n', string_to_split)\n",
    "\n",
    "print(string_to_split)\n",
    "print(teste)"
   ]
  }
 ],
 "metadata": {
  "kernelspec": {
   "display_name": "Python 3",
   "language": "python",
   "name": "python3"
  },
  "language_info": {
   "codemirror_mode": {
    "name": "ipython",
    "version": 3
   },
   "file_extension": ".py",
   "mimetype": "text/x-python",
   "name": "python",
   "nbconvert_exporter": "python",
   "pygments_lexer": "ipython3",
   "version": "3.12.4"
  }
 },
 "nbformat": 4,
 "nbformat_minor": 5
}
